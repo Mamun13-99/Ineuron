{
  "nbformat": 4,
  "nbformat_minor": 0,
  "metadata": {
    "colab": {
      "provenance": []
    },
    "kernelspec": {
      "name": "python3",
      "display_name": "Python 3"
    },
    "language_info": {
      "name": "python"
    }
  },
  "cells": [
    {
      "cell_type": "markdown",
      "source": [
        "Q1. What is the purpose of Python&#39;s OOP?"
      ],
      "metadata": {
        "id": "HMf3L8OQtbr6"
      }
    },
    {
      "cell_type": "markdown",
      "source": [
        "The purpose of Python's Object-Oriented Programming (OOP) is to provide a way to organize and structure code in a more intuitive and modular way, making it easier to write, understand, and maintain complex applications.\n",
        "\n",
        "OOP in Python revolves around the concept of objects, which are instances of classes. Classes are essentially blueprints or templates that define the attributes and behavior of objects of that class. By defining classes, you can create custom types with their own methods and attributes, which can then be used to create instances of those objects."
      ],
      "metadata": {
        "id": "LD0IoyFTvKKa"
      }
    },
    {
      "cell_type": "markdown",
      "source": [
        "Q2. Where does an inheritance search look for an attribute?"
      ],
      "metadata": {
        "id": "NgdqPcu1wnRD"
      }
    },
    {
      "cell_type": "markdown",
      "source": [
        "In Python, when an attribute is accessed on an instance of a class, the interpreter first looks for the attribute within the instance itself. If the attribute is not found within the instance, the interpreter looks for it within the class of the instance.\n",
        "If the attribute is not found within the class, the interpreter then looks for it in the parent classes of the class in a process known as inheritance search. The search proceeds from the immediate parent class up through the hierarchy of parent classes, and if the attribute is not found in any of the parent classes, it raises an AttributeError."
      ],
      "metadata": {
        "id": "p_M3gNJKwrS3"
      }
    },
    {
      "cell_type": "markdown",
      "source": [
        "Q3. How do you distinguish between a class object and an instance object?"
      ],
      "metadata": {
        "id": "t4t_s2M2w5PQ"
      }
    },
    {
      "cell_type": "markdown",
      "source": [
        "In Python, a class object is an object that represents a class, while an instance object is an object that is created from a class. Here are some key differences between class objects and instance objects:\n",
        "\n",
        "1. Class objects are created when the interpreter reads the class definition, while instance objects are created at runtime when you call the class constructor.\n",
        "2. Class objects have attributes that belong to the class itself, such as class methods and class variables, while instance objects have attributes that belong to each individual instance of the class\n",
        "3. Class objects are usually used to define behavior and properties that are common to all instances of the class, while instance objects represent specific instances of the class with their own unique characteristics.\n",
        "4. You can access class attributes and methods using the class object itself, while you can access instance attributes and methods using the instance object."
      ],
      "metadata": {
        "id": "E9ErJEDKxzm-"
      }
    },
    {
      "cell_type": "markdown",
      "source": [
        "Q4. What makes the first argument in a class’s method function special?"
      ],
      "metadata": {
        "id": "k-2mo7qqyEZH"
      }
    },
    {
      "cell_type": "markdown",
      "source": [
        "When you call a method on an instance of a class, Python automatically passes the instance as the first argument to the method. This allows you to access the instance's attributes and methods from within the method.\n",
        "\n",
        "The self argument is a reference to the instance itself, so any changes made to self within the method will affect the instance.\n",
        "\n",
        "The self argument is conventionally named self, but you can use any valid variable name as long as it is the first argument in the method definition.\n",
        "\n",
        "When you define a method in a class, you must include the self argument as the first parameter, even though you don't need to explicitly pass it when you call the method.\n"
      ],
      "metadata": {
        "id": "Tn0QAOohyuq5"
      }
    },
    {
      "cell_type": "markdown",
      "source": [
        "Q5. What is the purpose of the __init__ method?"
      ],
      "metadata": {
        "id": "3qAQLj6ezPRB"
      }
    },
    {
      "cell_type": "markdown",
      "source": [
        "The __init__ method is called automatically when an instance of the class is created, and it is used to set up the initial state of the instance.\n",
        "\n",
        "The __init__ method takes the instance object self as its first argument, followed by any other arguments that are needed to initialize the instance's attributes.\n",
        "\n",
        "The self parameter is a reference to the instance of the class that is being created, and it is used to set the instance's attributes.\n",
        "\n",
        "You can define any number of parameters in the __init__ method, depending on how many attributes you need to initialize."
      ],
      "metadata": {
        "id": "qrEO1ZlgzR0h"
      }
    },
    {
      "cell_type": "markdown",
      "source": [
        "Q6. What is the process for creating a class instance?"
      ],
      "metadata": {
        "id": "KxDGvr7qzgID"
      }
    },
    {
      "cell_type": "markdown",
      "source": [
        "Define the class: First, you need to define the class by using the class keyword followed by the class name. Inside the class, you define the attributes and methods that the instances of the class will have.\n",
        "\n",
        "Create the instance: To create an instance of the class, you call the class as if it were a function, passing any required arguments to the __init__ method. This will create a new instance of the class and return it.\n",
        "\n",
        "Assign the instance to a variable: Finally, you need to assign the new instance to a variable so that you can refer to it later. This variable is now an object of the class and can be used to access its attributes and methods."
      ],
      "metadata": {
        "id": "AuCoEGafzlWA"
      }
    },
    {
      "cell_type": "code",
      "execution_count": 17,
      "metadata": {
        "id": "e7m5d4uLtDy6"
      },
      "outputs": [],
      "source": [
        "class Rectangle:\n",
        "    def __init__(self,length, width):\n",
        "      self.length= length\n",
        "      self.width= width\n",
        "\n",
        "    def area(self):\n",
        "      return self.length * self.width"
      ]
    },
    {
      "cell_type": "code",
      "source": [
        "rect= Rectangle(5,4)\n",
        "print(rect.length)\n",
        "print(rect.width)"
      ],
      "metadata": {
        "colab": {
          "base_uri": "https://localhost:8080/"
        },
        "id": "hWtY_v3N0enP",
        "outputId": "b59479b0-7283-4d53-dce8-ed0e0197819b"
      },
      "execution_count": 18,
      "outputs": [
        {
          "output_type": "stream",
          "name": "stdout",
          "text": [
            "5\n",
            "4\n"
          ]
        }
      ]
    },
    {
      "cell_type": "code",
      "source": [
        "print(rect.width)\n",
        "print(rect.area())"
      ],
      "metadata": {
        "colab": {
          "base_uri": "https://localhost:8080/"
        },
        "id": "0FkZ0bh-1VRF",
        "outputId": "d3428d5c-5da3-45f0-a672-4eee85c22547"
      },
      "execution_count": 20,
      "outputs": [
        {
          "output_type": "stream",
          "name": "stdout",
          "text": [
            "4\n",
            "20\n"
          ]
        }
      ]
    },
    {
      "cell_type": "markdown",
      "source": [
        "Q7. What is the process for creating a class?"
      ],
      "metadata": {
        "id": "qjNN4NvN6D7_"
      }
    },
    {
      "cell_type": "markdown",
      "source": [
        "Use the class keyword: To define a new class, you start with the class keyword followed by the name of the class.\n",
        "\n",
        "Define the attributes: Inside the class, you define the attributes that each instance of the class will have. You can define them as instance variables (i.e., attributes that are unique to each instance) or class variables (i.e., attributes that are shared by all instances of the class).\n",
        "\n",
        "Define the methods: You can also define methods inside the class, which are functions that belong to the class and can be called on instances of the class. Methods can be used to perform operations on the attributes of the class or to provide some functionality to the user."
      ],
      "metadata": {
        "id": "WnLou-Yk6IzR"
      }
    },
    {
      "cell_type": "code",
      "source": [
        "class Triangle:\n",
        "    def __init__(self,base,height):\n",
        "      self.base=base\n",
        "      self.height=height\n",
        "    def area_T(self):\n",
        "      return self.base*self.height* 0.5\n",
        "         "
      ],
      "metadata": {
        "id": "2P3Pd5GM1Gvi"
      },
      "execution_count": 22,
      "outputs": []
    },
    {
      "cell_type": "code",
      "source": [
        "tri=Triangle(4,5)\n",
        "print(tri.base)\n",
        "print(tri.height)"
      ],
      "metadata": {
        "colab": {
          "base_uri": "https://localhost:8080/"
        },
        "id": "Ucd-3bed7GwD",
        "outputId": "3d3f6151-a2a5-4fc6-ef94-0abc63b76747"
      },
      "execution_count": 24,
      "outputs": [
        {
          "output_type": "stream",
          "name": "stdout",
          "text": [
            "4\n",
            "5\n"
          ]
        }
      ]
    },
    {
      "cell_type": "code",
      "source": [
        "print(tri.area_T())"
      ],
      "metadata": {
        "colab": {
          "base_uri": "https://localhost:8080/"
        },
        "id": "a8Db5G707nRq",
        "outputId": "26eb9a17-6ba9-4ee2-f0e3-47550b3469fb"
      },
      "execution_count": 25,
      "outputs": [
        {
          "output_type": "stream",
          "name": "stdout",
          "text": [
            "10.0\n"
          ]
        }
      ]
    },
    {
      "cell_type": "markdown",
      "source": [
        "Q8. How would you define the superclasses of a class?"
      ],
      "metadata": {
        "id": "sIFEVXhB9itv"
      }
    },
    {
      "cell_type": "markdown",
      "source": [
        "In Python, you can define a class hierarchy using inheritance. A class that inherits from another class is called a subclass, and the class it inherits from is called a superclass or parent class. To define the superclass of a class in Python, you simply list the superclass name in the parentheses after the subclass name when defining the subclass."
      ],
      "metadata": {
        "id": "cIU9dHIl9lQQ"
      }
    },
    {
      "cell_type": "code",
      "source": [
        "class Animal:\n",
        "    def __init__(self,species):\n",
        "      self.species=species\n",
        "\n",
        "    def make_a_sound(self):\n",
        "      print(\"the Animal makes a sound\")\n",
        "       "
      ],
      "metadata": {
        "id": "l6q8xqSx71em"
      },
      "execution_count": 28,
      "outputs": []
    },
    {
      "cell_type": "code",
      "source": [
        "class Dog(Animal):\n",
        "    def __init__(self, name):\n",
        "        super().__init__(\"Canine\")\n",
        "        self.name = name\n"
      ],
      "metadata": {
        "id": "CowZjdhv9uYQ"
      },
      "execution_count": 29,
      "outputs": []
    },
    {
      "cell_type": "code",
      "source": [
        "def make_sound(self):\n",
        "        print(\"Woof!\")\n",
        "\n",
        "class Cat(Animal):\n",
        "    def __init__(self, name):\n",
        "        super().__init__(\"Feline\")\n",
        "        self.name = name\n",
        "    \n",
        "    def make_sound(self):\n",
        "        print(\"Meow!\")"
      ],
      "metadata": {
        "id": "oK0TOaIm-hmY"
      },
      "execution_count": 30,
      "outputs": []
    },
    {
      "cell_type": "code",
      "source": [],
      "metadata": {
        "id": "HQZ3KdLy-lzt"
      },
      "execution_count": null,
      "outputs": []
    }
  ]
}