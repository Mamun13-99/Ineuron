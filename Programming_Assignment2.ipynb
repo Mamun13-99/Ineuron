{
  "nbformat": 4,
  "nbformat_minor": 0,
  "metadata": {
    "colab": {
      "provenance": []
    },
    "kernelspec": {
      "name": "python3",
      "display_name": "Python 3"
    },
    "language_info": {
      "name": "python"
    }
  },
  "cells": [
    {
      "cell_type": "markdown",
      "source": [
        "1. Write a Python program to convert kilometers to miles?"
      ],
      "metadata": {
        "id": "2TDifZX1JzXY"
      }
    },
    {
      "cell_type": "code",
      "execution_count": 7,
      "metadata": {
        "colab": {
          "base_uri": "https://localhost:8080/"
        },
        "id": "Wp01LIKAJUWP",
        "outputId": "42113e53-0ae7-4763-8481-59606d0f1570"
      },
      "outputs": [
        {
          "output_type": "stream",
          "name": "stdout",
          "text": [
            "Enter the distance in KM: 20\n",
            "the KM: 20.0 in mile is: 12.42742 miles\n"
          ]
        }
      ],
      "source": [
        "kilometers=float(input(\"Enter the distance in KM: \"))\n",
        "Coversion_factor=0.621371\n",
        "Miles=kilometers*Coversion_factor\n",
        "\n",
        "print(f\"the KM: {kilometers} in mile is: {Miles} miles\")"
      ]
    },
    {
      "cell_type": "markdown",
      "source": [
        "2. Write a Python program to convert Celsius to Fahrenheit?"
      ],
      "metadata": {
        "id": "gNXT9Ck0L_1z"
      }
    },
    {
      "cell_type": "code",
      "source": [
        "Celcius=float(input(\"Enter the temp in Celcius: \"))\n",
        "Converion_factor= 1.8\n",
        "conversion_factor2=Celcius*Converion_factor\n",
        "Fahrenheit=conversion_factor2+32\n",
        "\n",
        "print(f\"{Celcius} Celcius in Fahrenheit is: {Fahrenheit} Fahrenheit\" )"
      ],
      "metadata": {
        "colab": {
          "base_uri": "https://localhost:8080/"
        },
        "id": "nqkj1CoRK7hR",
        "outputId": "1908bdf7-a307-42a2-f684-96681109ee47"
      },
      "execution_count": 8,
      "outputs": [
        {
          "output_type": "stream",
          "name": "stdout",
          "text": [
            "Enter the temp in Celcius: 20\n",
            "20.0 Celcius in Fahrenheit is: 68.0 Fahrenheit\n"
          ]
        }
      ]
    },
    {
      "cell_type": "code",
      "source": [
        "Celcius=float(input(\"Enter the temp in Celcius: \"))\n",
        "Fahrenheit= (Celcius*1.8)+32\n",
        "print(f\"{Celcius} Celcius in Fahrenheit is: {Fahrenheit} Fahrenheit\" )"
      ],
      "metadata": {
        "colab": {
          "base_uri": "https://localhost:8080/"
        },
        "id": "XGPL9lIuNYD8",
        "outputId": "4b84a8a8-ec67-49a6-d6c6-bf5cc0844a3c"
      },
      "execution_count": 9,
      "outputs": [
        {
          "output_type": "stream",
          "name": "stdout",
          "text": [
            "Enter the temp in Celcius: 20\n",
            "20.0 Celcius in Fahrenheit is: 68.0 Fahrenheit\n"
          ]
        }
      ]
    },
    {
      "cell_type": "markdown",
      "source": [
        "3. Write a Python program to display calendar?"
      ],
      "metadata": {
        "id": "xCYKx6g4OOA0"
      }
    },
    {
      "cell_type": "code",
      "source": [
        "import calendar as c\n",
        "year=int(input(\"Enter year: \"))\n",
        "month=int(input(\"Enter month: \"))\n",
        "\n",
        "print(c.month(year,month))\n"
      ],
      "metadata": {
        "colab": {
          "base_uri": "https://localhost:8080/"
        },
        "id": "1WQHbFpON9T6",
        "outputId": "8e81517f-d127-4d80-f4c3-b757712a19ed"
      },
      "execution_count": 15,
      "outputs": [
        {
          "output_type": "stream",
          "name": "stdout",
          "text": [
            "Enter year: 2023\n",
            "Enter month: 2\n",
            "   February 2023\n",
            "Mo Tu We Th Fr Sa Su\n",
            "       1  2  3  4  5\n",
            " 6  7  8  9 10 11 12\n",
            "13 14 15 16 17 18 19\n",
            "20 21 22 23 24 25 26\n",
            "27 28\n",
            "\n"
          ]
        }
      ]
    },
    {
      "cell_type": "markdown",
      "source": [
        "4. Write a Python program to solve quadratic equation?"
      ],
      "metadata": {
        "id": "rWgOW54gQB5j"
      }
    },
    {
      "cell_type": "code",
      "source": [
        "import math\n",
        "\n",
        "a = float(input(\"Enter coefficient a: \"))\n",
        "b = float(input(\"Enter coefficient b: \"))\n",
        "c = float(input(\"Enter coefficient c: \"))\n",
        "\n",
        "discriminant = b**2 - 4*a*c              #b2-4ac\n",
        "\n",
        "# Check the value of the discriminant\n",
        "if discriminant > 0:\n",
        "    # If the discriminant is positive, there are two real solutions\n",
        "\n",
        "    x1 = (-b + math.sqrt(discriminant)) / (2*a)\n",
        "    x2 = (-b - math.sqrt(discriminant)) / (2*a)\n",
        "    print(f\"The solutions are {x1} and {x2}.\")\n",
        "    \n",
        "elif discriminant == 0:\n",
        "    # If the discriminant is zero, there is one real solution\n",
        "    x = -b / (2*a)\n",
        "    print(f\"The solution is {x}.\")\n",
        "else:\n",
        "    # If the discriminant is negative, there are no real solutions\n",
        "    print(\"There are no real solutions.\")\n",
        "\n",
        "\n"
      ],
      "metadata": {
        "colab": {
          "base_uri": "https://localhost:8080/"
        },
        "id": "tJwUcGsNO3jl",
        "outputId": "5ed880bd-a076-4071-9fda-d093484b3738"
      },
      "execution_count": 17,
      "outputs": [
        {
          "output_type": "stream",
          "name": "stdout",
          "text": [
            "Enter coefficient a: 2\n",
            "Enter coefficient b: 10\n",
            "Enter coefficient c: 2\n",
            "The solutions are -0.20871215252208009 and -4.7912878474779195.\n"
          ]
        }
      ]
    },
    {
      "cell_type": "markdown",
      "source": [
        "5. Write a Python program to swap two variables without temp variable?"
      ],
      "metadata": {
        "id": "_E22PSw-TyVS"
      }
    },
    {
      "cell_type": "code",
      "source": [
        "a=int(input(\"Enter a number: \"))\n",
        "b=int(input(\"Enter a number: \"))\n",
        "\n",
        "print(f\"Before swapping the value of a is {a} and value of b is {b}\")\n",
        "\n",
        "a,b=b,a\n",
        "print(f\"After swapping the value of a is {a} and value of b is {b}\")\n"
      ],
      "metadata": {
        "colab": {
          "base_uri": "https://localhost:8080/"
        },
        "id": "b7axTY4gR2ok",
        "outputId": "d1a91bb2-029d-45ab-f3cc-62bc03261b75"
      },
      "execution_count": 18,
      "outputs": [
        {
          "output_type": "stream",
          "name": "stdout",
          "text": [
            "Enter a number: 10\n",
            "Enter a number: 20\n",
            "Before swapping the value of a is 10 and value of b is 20\n",
            "After swapping the value of a is 20 and value of b is 10\n"
          ]
        }
      ]
    },
    {
      "cell_type": "code",
      "source": [],
      "metadata": {
        "id": "Ys8YfWxZTj6k"
      },
      "execution_count": null,
      "outputs": []
    }
  ]
}