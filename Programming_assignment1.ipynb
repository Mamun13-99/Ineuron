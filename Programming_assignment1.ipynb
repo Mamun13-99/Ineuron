{
  "nbformat": 4,
  "nbformat_minor": 0,
  "metadata": {
    "colab": {
      "provenance": []
    },
    "kernelspec": {
      "name": "python3",
      "display_name": "Python 3"
    },
    "language_info": {
      "name": "python"
    }
  },
  "cells": [
    {
      "cell_type": "markdown",
      "source": [
        "1. Write a Python program to print &quot;Hello Python&quot;?"
      ],
      "metadata": {
        "id": "JUwmcGq_XpnP"
      }
    },
    {
      "cell_type": "code",
      "execution_count": 3,
      "metadata": {
        "colab": {
          "base_uri": "https://localhost:8080/"
        },
        "id": "-Jvnuo4ZXmjs",
        "outputId": "2f7d9b47-9ee5-40ed-fdc6-ca496ba3c489"
      },
      "outputs": [
        {
          "output_type": "stream",
          "name": "stdout",
          "text": [
            "\"Hello Python\"\n"
          ]
        }
      ],
      "source": [
        "print('\"Hello Python\"')"
      ]
    },
    {
      "cell_type": "markdown",
      "source": [
        "2. Write a Python program to do arithmetical operations addition and division.?"
      ],
      "metadata": {
        "id": "xP7p4iyPYCzI"
      }
    },
    {
      "cell_type": "code",
      "source": [
        "a =float(input(\"Enter a number:\"))\n",
        "b=float(input(\"Enter a number:\"))\n",
        "\n",
        "addition=a+b\n",
        "multiplication=a*b\n",
        "\n",
        "print(f\"the addition of number {a} and {b} is: {addition}\") \n",
        "print(f\"the multiplication of number {a} and {b} is: {multiplication}\") \n"
      ],
      "metadata": {
        "colab": {
          "base_uri": "https://localhost:8080/"
        },
        "id": "UzocgQYYXwq0",
        "outputId": "268a5b16-055b-40f4-f210-4e8ad74efb90"
      },
      "execution_count": 6,
      "outputs": [
        {
          "output_type": "stream",
          "name": "stdout",
          "text": [
            "Enter a number:10\n",
            "Enter a number:10\n",
            "the addition of number 10.0 and 10.0 is: 20.0\n",
            "the multiplication of number 10.0 and 10.0 is: 100.0\n"
          ]
        }
      ]
    },
    {
      "cell_type": "markdown",
      "source": [
        "13. Write a Python program to find the area of a triangle?"
      ],
      "metadata": {
        "id": "Tw4ZdgD8ZmX9"
      }
    },
    {
      "cell_type": "code",
      "source": [
        "Base=float(input(\"Enter the base of the triangle in meter: \"))\n",
        "height=float(input(\"Enter the height of the triangle meter: \"))\n",
        "\n",
        "Area=0.5*Base*height\n",
        "\n",
        "print(f\"If the base of the triangle is: {Base} and the height of the triangle is: {height} \\nthen the area of the triangle is: {Area} m2\")\n"
      ],
      "metadata": {
        "colab": {
          "base_uri": "https://localhost:8080/"
        },
        "id": "LQ-3MFRQY3TK",
        "outputId": "a325f396-5349-4e44-d9e7-268660f67fb3"
      },
      "execution_count": 9,
      "outputs": [
        {
          "output_type": "stream",
          "name": "stdout",
          "text": [
            "Enter the base of the triangle in meter: 10\n",
            "Enter the height of the triangle meter: 10\n",
            "If the base of the triangle is: 10.0 and the height of the triangle is: 10.0 \n",
            "then the area of the triangle is: 50.0 m2\n"
          ]
        }
      ]
    },
    {
      "cell_type": "markdown",
      "source": [
        "4. Write a Python program to swap two variables?"
      ],
      "metadata": {
        "id": "MQkBGHFhcVXP"
      }
    },
    {
      "cell_type": "code",
      "source": [
        "a=12\n",
        "b=13\n",
        "a,b=b,a\n",
        "print(f\"the value of a is now {a} and b is {b}\")"
      ],
      "metadata": {
        "colab": {
          "base_uri": "https://localhost:8080/"
        },
        "id": "VfSOt7Zja59f",
        "outputId": "58717f26-6662-4c60-ede4-2f2602ca6103"
      },
      "execution_count": 10,
      "outputs": [
        {
          "output_type": "stream",
          "name": "stdout",
          "text": [
            "the value of a is now 13 and b is 12\n"
          ]
        }
      ]
    },
    {
      "cell_type": "markdown",
      "source": [
        "5. Write a Python program to generate a random number?"
      ],
      "metadata": {
        "id": "V3tZ6v9uctpg"
      }
    },
    {
      "cell_type": "code",
      "source": [
        "import random\n",
        "\n",
        "start=int(input(\"Enter a starting number: \"))\n",
        "End=int(input(\"Enter a ending number: \"))\n",
        "\n",
        "Random_number=random.randint(start,End)\n",
        "\n",
        "print(f\"The random numnber between {start} and {End} is: {Random_number}\")\n",
        "\n"
      ],
      "metadata": {
        "colab": {
          "base_uri": "https://localhost:8080/"
        },
        "id": "vutKnIAQcokL",
        "outputId": "a3399570-21b9-4994-9e37-6926bc1fcb81"
      },
      "execution_count": 13,
      "outputs": [
        {
          "output_type": "stream",
          "name": "stdout",
          "text": [
            "Enter a starting number: 1\n",
            "Enter a ending number: 100\n",
            "The random numnber between 1 and 100 is: 94\n"
          ]
        }
      ]
    },
    {
      "cell_type": "code",
      "source": [],
      "metadata": {
        "id": "pbQYJJooc0Yr"
      },
      "execution_count": null,
      "outputs": []
    }
  ]
}