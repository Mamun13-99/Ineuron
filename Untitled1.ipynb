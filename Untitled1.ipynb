{
  "nbformat": 4,
  "nbformat_minor": 0,
  "metadata": {
    "colab": {
      "provenance": []
    },
    "kernelspec": {
      "name": "python3",
      "display_name": "Python 3"
    },
    "language_info": {
      "name": "python"
    }
  },
  "cells": [
    {
      "cell_type": "markdown",
      "source": [
        "1. What exactly is []?"
      ],
      "metadata": {
        "id": "fcLgYzvgWOTw"
      }
    },
    {
      "cell_type": "markdown",
      "source": [
        "In Python, '[]' represents an empty list. A list is a data structure in Python that can hold an ordered collection of elements. An empty list is simply a list that contains no elements."
      ],
      "metadata": {
        "id": "LLKGZXdjWauz"
      }
    },
    {
      "cell_type": "markdown",
      "source": [
        "2. In a list of values stored in a variable called spam, how would you assign the value &#39;hello&#39; as the\n",
        "third value? (Assume [2, 4, 6, 8, 10] are in spam.)"
      ],
      "metadata": {
        "id": "VHuJmWsEWnGI"
      }
    },
    {
      "cell_type": "code",
      "execution_count": 1,
      "metadata": {
        "colab": {
          "base_uri": "https://localhost:8080/"
        },
        "id": "J7zt6Mp0VWQb",
        "outputId": "5e0cf215-6d25-46fb-bdbd-7c5b0f3ef213"
      },
      "outputs": [
        {
          "output_type": "stream",
          "name": "stdout",
          "text": [
            "[2, 4, 'Hello', 8, 10]\n"
          ]
        }
      ],
      "source": [
        "spam=[2, 4, 6, 8, 10]\n",
        "spam[2]=\"Hello\"\n",
        "print(spam)"
      ]
    },
    {
      "cell_type": "markdown",
      "source": [
        "Let&#39;s pretend the spam includes the list [&#39;a&#39;, &#39;b&#39;, &#39;c&#39;, &#39;d&#39;] for the next three queries.\n",
        "3. What is the value of spam[int(int(&#39;3&#39; * 2) / 11)]?"
      ],
      "metadata": {
        "id": "6_rcoqVCWMkx"
      }
    },
    {
      "cell_type": "code",
      "source": [
        "spam=['a', 'b', 'c', 'd']\n",
        "spam[int(int('3'*2)/11)]"
      ],
      "metadata": {
        "colab": {
          "base_uri": "https://localhost:8080/",
          "height": 36
        },
        "id": "I9-NJV1YXRcD",
        "outputId": "4267ad68-97b7-41cd-8c57-6af833a87975"
      },
      "execution_count": 4,
      "outputs": [
        {
          "output_type": "execute_result",
          "data": {
            "text/plain": [
              "'d'"
            ],
            "application/vnd.google.colaboratory.intrinsic+json": {
              "type": "string"
            }
          },
          "metadata": {},
          "execution_count": 4
        }
      ]
    },
    {
      "cell_type": "markdown",
      "source": [
        "4. What is the value of spam[-1]?"
      ],
      "metadata": {
        "id": "P_pMZuXGYcsS"
      }
    },
    {
      "cell_type": "code",
      "source": [
        "spam"
      ],
      "metadata": {
        "colab": {
          "base_uri": "https://localhost:8080/"
        },
        "id": "jagfCsiuYGIq",
        "outputId": "aa99c266-acb2-45af-e60e-5ff7eed1599b"
      },
      "execution_count": 5,
      "outputs": [
        {
          "output_type": "execute_result",
          "data": {
            "text/plain": [
              "['a', 'b', 'c', 'd']"
            ]
          },
          "metadata": {},
          "execution_count": 5
        }
      ]
    },
    {
      "cell_type": "code",
      "source": [
        "spam[-1]"
      ],
      "metadata": {
        "colab": {
          "base_uri": "https://localhost:8080/",
          "height": 36
        },
        "id": "clJbGzr1Yemn",
        "outputId": "f419943d-97d3-4e9b-9fa3-929312cc9c09"
      },
      "execution_count": 6,
      "outputs": [
        {
          "output_type": "execute_result",
          "data": {
            "text/plain": [
              "'d'"
            ],
            "application/vnd.google.colaboratory.intrinsic+json": {
              "type": "string"
            }
          },
          "metadata": {},
          "execution_count": 6
        }
      ]
    },
    {
      "cell_type": "markdown",
      "source": [
        "5. What is the value of spam[:2]?"
      ],
      "metadata": {
        "id": "NNOJbOpQYkZs"
      }
    },
    {
      "cell_type": "code",
      "source": [
        "spam[:2]"
      ],
      "metadata": {
        "colab": {
          "base_uri": "https://localhost:8080/"
        },
        "id": "004wTUimYhMF",
        "outputId": "545aed4a-7b72-4896-82eb-8ac72573269c"
      },
      "execution_count": 7,
      "outputs": [
        {
          "output_type": "execute_result",
          "data": {
            "text/plain": [
              "['a', 'b']"
            ]
          },
          "metadata": {},
          "execution_count": 7
        }
      ]
    },
    {
      "cell_type": "markdown",
      "source": [
        "Let&#39;s pretend bacon has the list [3.14, &#39;cat,&#39; 11, &#39;cat,&#39; True] for the next three questions.\n",
        "6. What is the value of bacon.index(&#39;cat&#39;)?"
      ],
      "metadata": {
        "id": "xPPtpETFYz8W"
      }
    },
    {
      "cell_type": "code",
      "source": [
        "bacon=[3.14, 'cat', 11, 'cat', True]\n",
        "bacon.index('cat')"
      ],
      "metadata": {
        "colab": {
          "base_uri": "https://localhost:8080/"
        },
        "id": "z130h0frYrTV",
        "outputId": "2d57a3c3-6adb-4de6-8e81-af80604872b2"
      },
      "execution_count": 12,
      "outputs": [
        {
          "output_type": "execute_result",
          "data": {
            "text/plain": [
              "1"
            ]
          },
          "metadata": {},
          "execution_count": 12
        }
      ]
    },
    {
      "cell_type": "markdown",
      "source": [
        "7. How does bacon.append(99) change the look of the list value in bacon?"
      ],
      "metadata": {
        "id": "sfiz7H1taiti"
      }
    },
    {
      "cell_type": "code",
      "source": [
        "bacon.append(99)\n",
        "print(bacon)  #99 was added multiple times as i ran the code multiple time"
      ],
      "metadata": {
        "colab": {
          "base_uri": "https://localhost:8080/"
        },
        "id": "F_dgk3-CZJgs",
        "outputId": "e3a055b4-2f61-41d7-e4e6-be17cfee1efd"
      },
      "execution_count": 19,
      "outputs": [
        {
          "output_type": "stream",
          "name": "stdout",
          "text": [
            "[3.14, 'cat', 11, 'cat', True, 99, 99, 99, 99, 99, 99]\n"
          ]
        }
      ]
    },
    {
      "cell_type": "markdown",
      "source": [],
      "metadata": {
        "id": "ub9htxlzag8L"
      }
    },
    {
      "cell_type": "markdown",
      "source": [
        "8. How does bacon.remove(&#39;cat&#39;) change the look of the list in bacon?"
      ],
      "metadata": {
        "id": "iSYtYrxYbTH7"
      }
    },
    {
      "cell_type": "code",
      "source": [
        "bacon.remove('cat')"
      ],
      "metadata": {
        "id": "ToQRhz-3bPN2"
      },
      "execution_count": 20,
      "outputs": []
    },
    {
      "cell_type": "code",
      "source": [
        "bacon"
      ],
      "metadata": {
        "colab": {
          "base_uri": "https://localhost:8080/"
        },
        "id": "jXe-UKJ8blJV",
        "outputId": "731301e9-69da-47fc-81d7-748a75f2155b"
      },
      "execution_count": 21,
      "outputs": [
        {
          "output_type": "execute_result",
          "data": {
            "text/plain": [
              "[3.14, 11, 'cat', True, 99, 99, 99, 99, 99, 99]"
            ]
          },
          "metadata": {},
          "execution_count": 21
        }
      ]
    },
    {
      "cell_type": "markdown",
      "source": [
        "9. What are the list concatenation and list replication operators?"
      ],
      "metadata": {
        "id": "ESyjiucIbwuA"
      }
    },
    {
      "cell_type": "markdown",
      "source": [
        "In Python, the list concatenation operator is +, which allows you to combine two or more lists into a single list. For example:"
      ],
      "metadata": {
        "id": "hwAfms7Vb8Wo"
      }
    },
    {
      "cell_type": "code",
      "source": [
        "my_list01= [\"Hello\", 1, \"Zomato\", 45]\n",
        "my_list02=[\"Hello\",2,\"Swiggy\",54]\n",
        "my_list03=my_list01+my_list02\n",
        "print(my_list03)"
      ],
      "metadata": {
        "colab": {
          "base_uri": "https://localhost:8080/"
        },
        "id": "fg1LZiSUbpRb",
        "outputId": "c29051cb-d2b1-4e07-e1e2-91e0eab30622"
      },
      "execution_count": 22,
      "outputs": [
        {
          "output_type": "stream",
          "name": "stdout",
          "text": [
            "['Hello', 1, 'Zomato', 45, 'Hello', 2, 'Swiggy', 54]\n"
          ]
        }
      ]
    },
    {
      "cell_type": "markdown",
      "source": [
        "The list replication operator is *, which allows you to create a new list by repeating an existing list a certain number of times. For example:"
      ],
      "metadata": {
        "id": "XsmoKu_CckkT"
      }
    },
    {
      "cell_type": "code",
      "source": [
        "new_list=1,2,34\n",
        "replicated_list=new_list*3\n",
        "print(replicated_list)"
      ],
      "metadata": {
        "colab": {
          "base_uri": "https://localhost:8080/"
        },
        "id": "RD9XsZFJceAo",
        "outputId": "0371f19a-179a-4b45-bf31-7424c4e34469"
      },
      "execution_count": 23,
      "outputs": [
        {
          "output_type": "stream",
          "name": "stdout",
          "text": [
            "(1, 2, 34, 1, 2, 34, 1, 2, 34)\n"
          ]
        }
      ]
    },
    {
      "cell_type": "markdown",
      "source": [
        "10. What is difference between the list methods append() and insert()?"
      ],
      "metadata": {
        "id": "te_inSXLc5rO"
      }
    },
    {
      "cell_type": "markdown",
      "source": [
        "In Python, append() and insert() are both list methods that allow you to add new elements to a list, but they differ in how they add those elements.\n",
        "\n",
        "The append() method adds a new element to the end of the list. For example:"
      ],
      "metadata": {
        "id": "y3FCfd1_dDw7"
      }
    },
    {
      "cell_type": "code",
      "source": [
        "my_list03.append(\"Numbers\")\n",
        "print(my_list03)     #\"Numbers\" is added at the last of the given list"
      ],
      "metadata": {
        "colab": {
          "base_uri": "https://localhost:8080/"
        },
        "id": "V2IbhRxsc1Gg",
        "outputId": "6c243262-08b3-4155-f113-2acd18f4511f"
      },
      "execution_count": 26,
      "outputs": [
        {
          "output_type": "stream",
          "name": "stdout",
          "text": [
            "['Hello', 1, 'Zomato', 45, 'Hello', 2, 'Swiggy', 54, 'Numbers', 'Numbers']\n"
          ]
        }
      ]
    },
    {
      "cell_type": "markdown",
      "source": [
        "The insert() method, on the other hand, allows you to add a new element to a specific position in the list, by specifying the index where you want to insert the element. For example:"
      ],
      "metadata": {
        "id": "cyfLsyF1dvsw"
      }
    },
    {
      "cell_type": "code",
      "source": [
        "my_list03.insert(0,\"Words\")\n",
        "print(my_list03)     #New string \"Words\" is added at the 0th Index "
      ],
      "metadata": {
        "colab": {
          "base_uri": "https://localhost:8080/"
        },
        "id": "5QO6tyLUdPeH",
        "outputId": "e557defe-0aec-4b30-8073-c2f1e637da98"
      },
      "execution_count": 29,
      "outputs": [
        {
          "output_type": "stream",
          "name": "stdout",
          "text": [
            "['Words', 'Hello', 1, 'Zomato', 45, 'Hello', 2, 'Swiggy', 54, 'Numbers', 'Numbers']\n"
          ]
        }
      ]
    },
    {
      "cell_type": "markdown",
      "source": [
        "11. What are the two methods for removing items from a list?"
      ],
      "metadata": {
        "id": "szA5e8S4ejhm"
      }
    },
    {
      "cell_type": "markdown",
      "source": [
        "Two Metho of removing items are follows\n",
        "\n",
        "1. Remove() method: This method removes the first occurrence of a specified value from the list. If the value is not found in the list it gives a value error.\n",
        "\n",
        "2. pop() method: This method removes and returns the item at a specified index in the list. If no index is specified, it removes and returns the last item in the list."
      ],
      "metadata": {
        "id": "D8FR_a_pe1fo"
      }
    },
    {
      "cell_type": "markdown",
      "source": [
        "12. Describe how list values and string values are identical."
      ],
      "metadata": {
        "id": "i8KcB4h6ffCK"
      }
    },
    {
      "cell_type": "markdown",
      "source": [
        "Lists and String values are identical in many ways as they allows to do some operation in both string and Lists like:\n",
        "\n",
        "1.Indexing: Both lists and strings allow you to access individual values (or characters) by their index.\n",
        "\n",
        "2.Slicing: Both lists and strings allow you to extract a subset of the values by using a slice.\n",
        "\n",
        "3.Concatenation: Both lists and strings can be concatenated (joined together) using the + operator.\n",
        " \n",
        "4.Repetition: Both lists and strings can be repeated (duplicated) using the * operator. "
      ],
      "metadata": {
        "id": "iO4fkXLpgN1z"
      }
    },
    {
      "cell_type": "code",
      "source": [
        "List_new=[\"Hello\", \"World\",1,2,3]      #INDEXING\n",
        "String_1=\"Bangalore\"\n",
        "\n",
        "print(List_new[2])\n",
        "print(String_1[2])"
      ],
      "metadata": {
        "colab": {
          "base_uri": "https://localhost:8080/"
        },
        "id": "SXetj0sdeF6Q",
        "outputId": "2e549e97-28b7-4f9c-b013-d9a148d497f1"
      },
      "execution_count": 31,
      "outputs": [
        {
          "output_type": "stream",
          "name": "stdout",
          "text": [
            "1\n",
            "n\n"
          ]
        }
      ]
    },
    {
      "cell_type": "code",
      "source": [
        "print(List_new[1:4])             #SLICING\n",
        "print(String_1[1:4])"
      ],
      "metadata": {
        "colab": {
          "base_uri": "https://localhost:8080/"
        },
        "id": "25TUWRh8hf97",
        "outputId": "f53317a6-e3d3-4c8a-9aee-d18f4f64066f"
      },
      "execution_count": 32,
      "outputs": [
        {
          "output_type": "stream",
          "name": "stdout",
          "text": [
            "['World', 1, 2]\n",
            "ang\n"
          ]
        }
      ]
    },
    {
      "cell_type": "code",
      "source": [
        "List_2=[1,2,3,4]\n",
        "List_3=[5,6,7]\n",
        "print(List_2+List_3)\n"
      ],
      "metadata": {
        "colab": {
          "base_uri": "https://localhost:8080/"
        },
        "id": "-Y8dXengh159",
        "outputId": "3cd1fc7c-7ed1-43e1-fe2b-b2fb60c78340"
      },
      "execution_count": 36,
      "outputs": [
        {
          "output_type": "stream",
          "name": "stdout",
          "text": [
            "[1, 2, 3, 4, 5, 6, 7]\n"
          ]
        }
      ]
    },
    {
      "cell_type": "code",
      "source": [
        "String01=\"Hello\" #CONCATENATE\n",
        "String02=\" World\"\n",
        "print(String01+String02)"
      ],
      "metadata": {
        "colab": {
          "base_uri": "https://localhost:8080/"
        },
        "id": "M0rG56g4iIP_",
        "outputId": "43883d90-7131-4e3c-ae4b-212f8fe495ea"
      },
      "execution_count": 38,
      "outputs": [
        {
          "output_type": "stream",
          "name": "stdout",
          "text": [
            "Hello World\n"
          ]
        }
      ]
    },
    {
      "cell_type": "markdown",
      "source": [
        "13. What&#39;s the difference between tuples and lists?"
      ],
      "metadata": {
        "id": "Nxq3fN6bjCWe"
      }
    },
    {
      "cell_type": "markdown",
      "source": [
        "Here are the main differences between tuples and lists:\n",
        "\n",
        "Mutability: Lists are mutable, which means that you can add, remove, or modify items in the list after it has been created. Tuples, on the other hand, are immutable, which means that once a tuple is created, you cannot add, remove, or modify items in the tuple.\n",
        "\n",
        "Syntax: Lists are enclosed in square brackets [ ], while tuples are enclosed in parentheses ().\n",
        "\n",
        "my_list = [1, 2, 3]\n",
        "my_tuple = (1, 2, 3)\n",
        "\n",
        "Usage: Lists are commonly used to store collections of data that can be modified, such as a list of users or a list of tasks. Tuples, on the other hand, are commonly used to store collections of data that are fixed\n",
        "\n",
        "Methods: Lists have several built-in methods that allow you to add, remove, or modify items, such as append(), remove(), and sort(). Tuples have fewer built-in methods because they are immutable, but they still have useful methods like count() and index()."
      ],
      "metadata": {
        "id": "xo4XcpYljQpG"
      }
    },
    {
      "cell_type": "markdown",
      "source": [
        "14. How do you type a tuple value that only contains the integer 42?"
      ],
      "metadata": {
        "id": "nkIPGhuTnGV0"
      }
    },
    {
      "cell_type": "code",
      "source": [
        "Tuple_01=(42,)\n",
        "print(type(Tuple_01))"
      ],
      "metadata": {
        "colab": {
          "base_uri": "https://localhost:8080/"
        },
        "id": "_LApN2l8i453",
        "outputId": "4fc8b13e-7a5b-4fb6-a59d-147b3b9db512"
      },
      "execution_count": 39,
      "outputs": [
        {
          "output_type": "stream",
          "name": "stdout",
          "text": [
            "<class 'tuple'>\n"
          ]
        }
      ]
    },
    {
      "cell_type": "markdown",
      "source": [
        "15. How do you get a list value&#39;s tuple form? How do you get a tuple value&#39;s list form?"
      ],
      "metadata": {
        "id": "huyEytaQnhD1"
      }
    },
    {
      "cell_type": "code",
      "source": [
        "lists=[1,2,3,4,5]\n",
        "tuples=(6,7,8,9,0)\n",
        "\n",
        "print(tuple(lists))\n",
        "print(list(tuples))\n"
      ],
      "metadata": {
        "colab": {
          "base_uri": "https://localhost:8080/"
        },
        "id": "nu8X3gsknaJq",
        "outputId": "140f7f86-8ba5-4c78-b427-efef4baf5f01"
      },
      "execution_count": 41,
      "outputs": [
        {
          "output_type": "stream",
          "name": "stdout",
          "text": [
            "(1, 2, 3, 4, 5)\n",
            "[6, 7, 8, 9, 0]\n"
          ]
        }
      ]
    },
    {
      "cell_type": "markdown",
      "source": [
        "16. Variables that &quot;contain&quot; list values are not necessarily lists themselves. Instead, what do they\n",
        "contain?"
      ],
      "metadata": {
        "id": "ULpzlC6hoVHy"
      }
    },
    {
      "cell_type": "markdown",
      "source": [
        "In Python, variables that \"contain\" list values are actually references to the list object in memory. When we create a list and assign it to a variable, the variable does not contain the list itself, but rather a reference to the list object in memory. For example, "
      ],
      "metadata": {
        "id": "oDj5uQESo2eA"
      }
    },
    {
      "cell_type": "code",
      "source": [
        "lists01=[1,2,24,6]\n",
        "other_list=lists01\n",
        "print(other_list)"
      ],
      "metadata": {
        "colab": {
          "base_uri": "https://localhost:8080/"
        },
        "id": "8LQkO7XTn8Dn",
        "outputId": "46ca35eb-ad88-4c7a-af8e-9d8f04b18919"
      },
      "execution_count": 46,
      "outputs": [
        {
          "output_type": "stream",
          "name": "stdout",
          "text": [
            "[1, 2, 24, 6]\n"
          ]
        }
      ]
    },
    {
      "cell_type": "markdown",
      "source": [
        "17. How do you distinguish between copy.copy() and copy.deepcopy()?"
      ],
      "metadata": {
        "id": "Y3W00_2apzoL"
      }
    },
    {
      "cell_type": "markdown",
      "source": [
        "copy.copy() creates a shallow copy of an object, which means that it creates a new object that is a copy of the original object, but the contents are still references to the same objects as in the original object. This means that changes made to nested objects in the copy will also affect the original object,. Here is an example"
      ],
      "metadata": {
        "id": "goVBA15QqlzO"
      }
    },
    {
      "cell_type": "code",
      "source": [
        "list09=[1,2,3,[4,5],6,7]\n",
        "import copy\n",
        "copied_list=copy.copy(list09)\n",
        "copied_list[3][1]=44\n",
        "print(list09)\n",
        "print(copied_list)"
      ],
      "metadata": {
        "colab": {
          "base_uri": "https://localhost:8080/"
        },
        "id": "HNMftdYQpK4U",
        "outputId": "06ea6bb8-5df0-447b-c4d1-02078062a59a"
      },
      "execution_count": 49,
      "outputs": [
        {
          "output_type": "stream",
          "name": "stdout",
          "text": [
            "[1, 2, 3, [4, 44], 6, 7]\n",
            "[1, 2, 3, [4, 44], 6, 7]\n"
          ]
        }
      ]
    },
    {
      "cell_type": "markdown",
      "source": [
        "copy.deepcopy() creates a deep copy of an object, which means that it creates a new object that is a copy of the original object, and the contents are also recursively copied. This means that changes made to nested objects in the copy will not affect the original object, and vice versa. Here is an example:"
      ],
      "metadata": {
        "id": "Hp_Eosd-suGb"
      }
    },
    {
      "cell_type": "code",
      "source": [
        "list10=[0,9,8,[7,6],5]\n",
        "import copy\n",
        "copied_list01=copy.deepcopy(list10)\n",
        "\n",
        "copied_list01[3][0]=77\n",
        "\n",
        "print(list10)\n",
        "print(copied_list01)"
      ],
      "metadata": {
        "colab": {
          "base_uri": "https://localhost:8080/"
        },
        "id": "XxlZgG2UrnDp",
        "outputId": "2929ef97-228a-404b-ea4d-51994ae96f89"
      },
      "execution_count": 51,
      "outputs": [
        {
          "output_type": "stream",
          "name": "stdout",
          "text": [
            "[0, 9, 8, [7, 6], 5]\n",
            "[0, 9, 8, [77, 6], 5]\n"
          ]
        }
      ]
    },
    {
      "cell_type": "code",
      "source": [],
      "metadata": {
        "id": "uSn-cxTvtVnH"
      },
      "execution_count": null,
      "outputs": []
    }
  ]
}