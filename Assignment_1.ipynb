{
  "nbformat": 4,
  "nbformat_minor": 0,
  "metadata": {
    "colab": {
      "provenance": []
    },
    "kernelspec": {
      "name": "python3",
      "display_name": "Python 3"
    },
    "language_info": {
      "name": "python"
    }
  },
  "cells": [
    {
      "cell_type": "markdown",
      "source": [
        "1. In the below elements which of them are values or an expression? eg:- values can be\n",
        "integer or string and expressions will be mathematical operators.\n",
        "# * :  Expression\n",
        "\n",
        "#'hello' : values\n",
        "\n",
        "#-87.8 : values\n",
        "#-  : expression\n",
        "\n",
        "# / : expression\n",
        "# + : expression\n",
        "# 6  : values"
      ],
      "metadata": {
        "id": "KOZUX4F588Q8"
      }
    },
    {
      "cell_type": "markdown",
      "source": [
        "2. What is the difference between string and variable?"
      ],
      "metadata": {
        "id": "LHZn0-eG9vgu"
      }
    },
    {
      "cell_type": "markdown",
      "source": [
        " a string is a sequence of characters that is used to represent text in a program. Either in single or double quotes, Below are two examples"
      ],
      "metadata": {
        "id": "sXHrN1Yu9_Fc"
      }
    },
    {
      "cell_type": "code",
      "execution_count": 1,
      "metadata": {
        "colab": {
          "base_uri": "https://localhost:8080/",
          "height": 35
        },
        "id": "pUuqpaql8vKV",
        "outputId": "2790cecf-815c-40d1-de64-1366e203da79"
      },
      "outputs": [
        {
          "output_type": "execute_result",
          "data": {
            "text/plain": [
              "'Hello World'"
            ],
            "application/vnd.google.colaboratory.intrinsic+json": {
              "type": "string"
            }
          },
          "metadata": {},
          "execution_count": 1
        }
      ],
      "source": [
        "\"Hello World\""
      ]
    },
    {
      "cell_type": "code",
      "source": [
        "'12345'"
      ],
      "metadata": {
        "colab": {
          "base_uri": "https://localhost:8080/",
          "height": 35
        },
        "id": "HZOd0dbe-CG9",
        "outputId": "f423418b-2bee-473e-863e-ba6b32198161"
      },
      "execution_count": 3,
      "outputs": [
        {
          "output_type": "execute_result",
          "data": {
            "text/plain": [
              "'12345'"
            ],
            "application/vnd.google.colaboratory.intrinsic+json": {
              "type": "string"
            }
          },
          "metadata": {},
          "execution_count": 3
        }
      ]
    },
    {
      "cell_type": "markdown",
      "source": [
        "A variable is a placeholder in the computer's memory that holds a value. It can hold different types of data such as numbers, characters, and even other variables. Variables can be used to store and manipulate data within a program.In below example variable a and b hold different values"
      ],
      "metadata": {
        "id": "ODCWksuv-Rbu"
      }
    },
    {
      "cell_type": "code",
      "source": [
        "a=[1,2,3,4]"
      ],
      "metadata": {
        "id": "vkgBGl5S-Dv9"
      },
      "execution_count": 4,
      "outputs": []
    },
    {
      "cell_type": "code",
      "source": [
        "b=\" Hello world\""
      ],
      "metadata": {
        "id": "Ow7oROLO-g9Y"
      },
      "execution_count": 5,
      "outputs": []
    },
    {
      "cell_type": "markdown",
      "source": [
        "3. Describe three different data types."
      ],
      "metadata": {
        "id": "I_rjSo2g-pQU"
      }
    },
    {
      "cell_type": "markdown",
      "source": [
        "Three types of date types are below:\n",
        "\n",
        "1. Integer:  An integer is a data type used to represent whole numbers (positive, negative, or zero) without any decimal points or fractions. \n",
        "\n",
        "Eg: 1,,-4, 0\n",
        "\n",
        "2. Float: A float, or floating-point number, is a data type used to represent numbers with decimal points. \n",
        "\n",
        "Eg: 1.4, 4.0, 0.0\n",
        "\n",
        "3. Boolean: A boolean is a data type used to represent logical values, such as true or false. Booleans are typically used in conditional statements and loops to control the flow of a program. "
      ],
      "metadata": {
        "id": "qswDIS-b-uhr"
      }
    },
    {
      "cell_type": "markdown",
      "source": [
        "4. What is an expression made up of? What do all expressions do?"
      ],
      "metadata": {
        "id": "q-eZWcM1_buD"
      }
    },
    {
      "cell_type": "markdown",
      "source": [
        "An expression is made up of one or more values, operators, and/or function calls that are evaluated to produce a result. Expressions can take many different forms, but they all share the same purpose: to produce a value or a set of values.\n",
        "\n",
        "Expressions can be simple or complex, and they can include different types of data such as numbers, strings, variables, and boolean values. Some examples of expressions include:\n",
        "\n",
        "5 + 3: this expression adds the values 5 and 3 together to produce the result 8.\n",
        "\n",
        "\"Hello\" + \"World\": this expression concatenates the strings \"Hello\" and \"World\" to produce the string \"HelloWorld\".\n",
        "\n",
        "x > 10 && y < 20: this expression uses the logical AND operator (&&) to check if the value of variable x is greater than 10 AND the value of variable y is less than 20."
      ],
      "metadata": {
        "id": "VXII4ytkAZ53"
      }
    },
    {
      "cell_type": "markdown",
      "source": [
        "5. This assignment statements, like spam = 10. What is the difference between an\n",
        "expression and a statement?"
      ],
      "metadata": {
        "id": "GShl9GAtCEil"
      }
    },
    {
      "cell_type": "markdown",
      "source": [
        "An expression is a combination of values, variables, operators, and function calls that produces a result. For example, the expression \"2 + 3\" evaluates to the value 5. Expressions can be used in many different ways within a program, such as assigning values to variables, controlling the flow of a program, and performing calculations or manipulations on data.\n",
        "\n",
        "A statement, on the other hand, is a complete instruction that performs a specific action or set of actions within a program. An assignment statement, such as \"spam = 10\", is an example of a statement. This statement assigns the value 10 to the variable named \"spam\".\n",
        "\n",
        "In summary, expressions are used to produce a value, while statements are used to perform an action. Expressions can be used within statements to assign values, make decisions, or perform calculations."
      ],
      "metadata": {
        "id": "x6tDanMECwvP"
      }
    },
    {
      "cell_type": "markdown",
      "source": [
        "6. After running the following code, what does the variable bacon contain?\n",
        "bacon = 22\n",
        "bacon + 1"
      ],
      "metadata": {
        "id": "itwSZuYJC9DQ"
      }
    },
    {
      "cell_type": "code",
      "source": [
        "bacon=22\n",
        "bacon+1\n",
        "#Value"
      ],
      "metadata": {
        "colab": {
          "base_uri": "https://localhost:8080/"
        },
        "id": "t3IoLiHY-k9v",
        "outputId": "8e89e345-0b36-4093-a710-2d9d6067a04b"
      },
      "execution_count": 7,
      "outputs": [
        {
          "output_type": "execute_result",
          "data": {
            "text/plain": [
              "23"
            ]
          },
          "metadata": {},
          "execution_count": 7
        }
      ]
    },
    {
      "cell_type": "markdown",
      "source": [
        "7. What should the values of the following two terms be?\n",
        "\n",
        "&#39;spam&#39; + &#39;spamspam&#39;\n",
        "\n",
        "&#39;spam&#39; * 3"
      ],
      "metadata": {
        "id": "8sFAtfJHDixP"
      }
    },
    {
      "cell_type": "code",
      "source": [
        "'spam' + 'spamspam'"
      ],
      "metadata": {
        "colab": {
          "base_uri": "https://localhost:8080/",
          "height": 35
        },
        "id": "9Zt20rJKDLxq",
        "outputId": "2cc213f7-9e60-469e-ebed-2dc49c1a4f61"
      },
      "execution_count": 8,
      "outputs": [
        {
          "output_type": "execute_result",
          "data": {
            "text/plain": [
              "'spamspamspam'"
            ],
            "application/vnd.google.colaboratory.intrinsic+json": {
              "type": "string"
            }
          },
          "metadata": {},
          "execution_count": 8
        }
      ]
    },
    {
      "cell_type": "code",
      "source": [
        "'spam' * 3"
      ],
      "metadata": {
        "colab": {
          "base_uri": "https://localhost:8080/",
          "height": 35
        },
        "id": "ZJVsEqQ0Dwbo",
        "outputId": "e189760e-db4e-4733-cb2f-39b8fd171987"
      },
      "execution_count": 9,
      "outputs": [
        {
          "output_type": "execute_result",
          "data": {
            "text/plain": [
              "'spamspamspam'"
            ],
            "application/vnd.google.colaboratory.intrinsic+json": {
              "type": "string"
            }
          },
          "metadata": {},
          "execution_count": 9
        }
      ]
    },
    {
      "cell_type": "markdown",
      "source": [
        "8. Why is eggs a valid variable name while 100 is invalid?"
      ],
      "metadata": {
        "id": "VPnj1R9fD2AZ"
      }
    },
    {
      "cell_type": "markdown",
      "source": [
        "In most programming languages, including Python, variable names must follow certain rules:\n",
        "\n",
        "Variable names can only contain letters (a to z, A to Z), numbers (0 to 9), and underscores (_).\n",
        "\n",
        "Variable names cannot begin with a number.\n",
        "\n",
        "Based on these rules, 'eggs' is a valid variable name because it only contains letters and it starts with a letter. However, '100' is not a valid variable name because it begins with a number, which violates the rules of variable naming."
      ],
      "metadata": {
        "id": "scTCCZJ7EOkR"
      }
    },
    {
      "cell_type": "markdown",
      "source": [
        "9. What three functions can be used to get the integer, floating-point number, or string\n",
        "version of a value?"
      ],
      "metadata": {
        "id": "MbSITlejEYWh"
      }
    },
    {
      "cell_type": "code",
      "source": [
        "a=\"43\"\n",
        "int(a)          #Function int() is used to covert string into an integer"
      ],
      "metadata": {
        "colab": {
          "base_uri": "https://localhost:8080/"
        },
        "id": "eln5oH09DyNL",
        "outputId": "ae8c76ba-f2b3-4ab3-9aac-afd4b6621827"
      },
      "execution_count": 12,
      "outputs": [
        {
          "output_type": "execute_result",
          "data": {
            "text/plain": [
              "43"
            ]
          },
          "metadata": {},
          "execution_count": 12
        }
      ]
    },
    {
      "cell_type": "code",
      "source": [
        "a=\"3.14\"\n",
        "float(a)    #float() is used to convert a value to a floating-point data type."
      ],
      "metadata": {
        "colab": {
          "base_uri": "https://localhost:8080/"
        },
        "id": "AKXyUPq_E3B-",
        "outputId": "ab839c58-74c8-46db-de38-ce17ac623335"
      },
      "execution_count": 14,
      "outputs": [
        {
          "output_type": "execute_result",
          "data": {
            "text/plain": [
              "3.14"
            ]
          },
          "metadata": {},
          "execution_count": 14
        }
      ]
    },
    {
      "cell_type": "code",
      "source": [
        "b=str(a) \n",
        "print(b)\n",
        "print(type(b))  # str() function can be used to convert a value to a string data type."
      ],
      "metadata": {
        "colab": {
          "base_uri": "https://localhost:8080/"
        },
        "id": "THAiSL0BFoT5",
        "outputId": "04e746ab-9c3c-483c-f975-6de397fe1047"
      },
      "execution_count": 23,
      "outputs": [
        {
          "output_type": "stream",
          "name": "stdout",
          "text": [
            "3.14\n",
            "<class 'str'>\n"
          ]
        }
      ]
    },
    {
      "cell_type": "markdown",
      "source": [
        "10. Why does this expression cause an error? How can you fix it?\n",
        "&#39;I have eaten &#39; + 99 + &#39; burritos.&#39;"
      ],
      "metadata": {
        "id": "nNwseB-pHBvh"
      }
    },
    {
      "cell_type": "code",
      "source": [
        "'I have eaten ' + 99 + ' burritos.'"
      ],
      "metadata": {
        "colab": {
          "base_uri": "https://localhost:8080/",
          "height": 165
        },
        "id": "wBBa_MRnF1Z3",
        "outputId": "6be73601-29e5-49cb-e06d-c9d78c9b66ba"
      },
      "execution_count": 24,
      "outputs": [
        {
          "output_type": "error",
          "ename": "TypeError",
          "evalue": "ignored",
          "traceback": [
            "\u001b[0;31m---------------------------------------------------------------------------\u001b[0m",
            "\u001b[0;31mTypeError\u001b[0m                                 Traceback (most recent call last)",
            "\u001b[0;32m<ipython-input-24-d24137131a5c>\u001b[0m in \u001b[0;36m<module>\u001b[0;34m\u001b[0m\n\u001b[0;32m----> 1\u001b[0;31m \u001b[0;34m'I have eaten '\u001b[0m \u001b[0;34m+\u001b[0m \u001b[0;36m99\u001b[0m \u001b[0;34m+\u001b[0m \u001b[0;34m' burritos.'\u001b[0m\u001b[0;34m\u001b[0m\u001b[0;34m\u001b[0m\u001b[0m\n\u001b[0m",
            "\u001b[0;31mTypeError\u001b[0m: can only concatenate str (not \"int\") to str"
          ]
        }
      ]
    },
    {
      "cell_type": "markdown",
      "source": [
        "giving error because concatenate function can be done only with string to another string, So need to convert integer 99 into a string by adding quotes and run the code"
      ],
      "metadata": {
        "id": "Mhf8oNddHJeU"
      }
    },
    {
      "cell_type": "code",
      "source": [
        "'I have eaten ' + '99' + ' burritos.'"
      ],
      "metadata": {
        "colab": {
          "base_uri": "https://localhost:8080/",
          "height": 35
        },
        "id": "8t9qKtKaHEpd",
        "outputId": "c8846130-b7d4-4dd2-d0fc-6a7cfecfbf4e"
      },
      "execution_count": 26,
      "outputs": [
        {
          "output_type": "execute_result",
          "data": {
            "text/plain": [
              "'I have eaten 99 burritos.'"
            ],
            "application/vnd.google.colaboratory.intrinsic+json": {
              "type": "string"
            }
          },
          "metadata": {},
          "execution_count": 26
        }
      ]
    },
    {
      "cell_type": "code",
      "source": [],
      "metadata": {
        "id": "Ya-z_1xwHjGs"
      },
      "execution_count": null,
      "outputs": []
    }
  ]
}